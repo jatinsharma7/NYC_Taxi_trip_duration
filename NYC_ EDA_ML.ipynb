{
 "cells": [
  {
   "cell_type": "markdown",
   "metadata": {},
   "source": [
    "# Problem Statement"
   ]
  },
  {
   "cell_type": "markdown",
   "metadata": {},
   "source": [
    "### New York City Taxi Trip Duration\n",
    "Build a model that predicts the total ride duration of taxi trips in New York City."
   ]
  },
  {
   "cell_type": "markdown",
   "metadata": {},
   "source": [
    "# Datasets"
   ]
  },
  {
   "cell_type": "markdown",
   "metadata": {},
   "source": [
    "train.csv - the training set (contains 1458644 trip records) <br>\n",
    "test.csv - the testing set (contains 625134 trip records)"
   ]
  },
  {
   "cell_type": "markdown",
   "metadata": {},
   "source": [
    "# Data Dictionary"
   ]
  },
  {
   "cell_type": "markdown",
   "metadata": {},
   "source": [
    "id - a unique identifier for each trip <br>\n",
    "vendor_id - a code indicating the provider associated with the trip record<br>\n",
    "pickup_datetime - date and time when the meter was engaged<br>\n",
    "dropoff_datetime - date and time when the meter was disengaged<br>\n",
    "passenger_count - the number of passengers in the vehicle (driver entered value)<br>\n",
    "pickup_longitude - the longitude where the meter was engaged<br>\n",
    "pickup_latitude - the latitude where the meter was engaged<br>\n",
    "dropoff_longitude - the longitude where the meter was disengaged<br>\n",
    "dropoff_latitude - the latitude where the meter was disengaged<br>\n",
    "store_and_fwd_flag - This flag indicates whether the trip record was held in vehicle memory before sending to the vendor because the vehicle did not have a connection to the server - Y=store and forward; N=not a store and forward trip<br>\n",
    "trip_duration - duration of the trip in seconds<br>"
   ]
  },
  {
   "cell_type": "markdown",
   "metadata": {},
   "source": [
    "# Import Modules"
   ]
  },
  {
   "cell_type": "code",
   "execution_count": 1,
   "metadata": {
    "collapsed": true
   },
   "outputs": [],
   "source": [
    "import numpy as np\n",
    "import pandas as pd\n",
    "import seaborn as sns\n",
    "import matplotlib.pyplot as plt\n",
    "from sklearn.model_selection import train_test_split\n",
    "import time\n",
    "from sklearn import metrics\n",
    "from sklearn.decomposition import PCA"
   ]
  },
  {
   "cell_type": "markdown",
   "metadata": {},
   "source": [
    "# Import Train and Test Data"
   ]
  },
  {
   "cell_type": "code",
   "execution_count": 2,
   "metadata": {
    "collapsed": true
   },
   "outputs": [],
   "source": [
    "NYC_train = pd.read_csv('NYCtrain.csv')\n",
    "NYC_test = pd.read_csv('NYCtest.csv')"
   ]
  },
  {
   "cell_type": "markdown",
   "metadata": {},
   "source": [
    "# Check Data Metadata"
   ]
  },
  {
   "cell_type": "code",
   "execution_count": 3,
   "metadata": {
    "collapsed": false
   },
   "outputs": [
    {
     "data": {
      "text/html": [
       "<div>\n",
       "<table border=\"1\" class=\"dataframe\">\n",
       "  <thead>\n",
       "    <tr style=\"text-align: right;\">\n",
       "      <th></th>\n",
       "      <th>id</th>\n",
       "      <th>vendor_id</th>\n",
       "      <th>pickup_datetime</th>\n",
       "      <th>dropoff_datetime</th>\n",
       "      <th>passenger_count</th>\n",
       "      <th>pickup_longitude</th>\n",
       "      <th>pickup_latitude</th>\n",
       "      <th>dropoff_longitude</th>\n",
       "      <th>dropoff_latitude</th>\n",
       "      <th>store_and_fwd_flag</th>\n",
       "      <th>trip_duration</th>\n",
       "    </tr>\n",
       "  </thead>\n",
       "  <tbody>\n",
       "    <tr>\n",
       "      <th>0</th>\n",
       "      <td>id2875421</td>\n",
       "      <td>2</td>\n",
       "      <td>2016-03-14 17:24:55</td>\n",
       "      <td>2016-03-14 17:32:30</td>\n",
       "      <td>1</td>\n",
       "      <td>-73.982155</td>\n",
       "      <td>40.767937</td>\n",
       "      <td>-73.964630</td>\n",
       "      <td>40.765602</td>\n",
       "      <td>N</td>\n",
       "      <td>455</td>\n",
       "    </tr>\n",
       "    <tr>\n",
       "      <th>1</th>\n",
       "      <td>id2377394</td>\n",
       "      <td>1</td>\n",
       "      <td>2016-06-12 00:43:35</td>\n",
       "      <td>2016-06-12 00:54:38</td>\n",
       "      <td>1</td>\n",
       "      <td>-73.980415</td>\n",
       "      <td>40.738564</td>\n",
       "      <td>-73.999481</td>\n",
       "      <td>40.731152</td>\n",
       "      <td>N</td>\n",
       "      <td>663</td>\n",
       "    </tr>\n",
       "    <tr>\n",
       "      <th>2</th>\n",
       "      <td>id3858529</td>\n",
       "      <td>2</td>\n",
       "      <td>2016-01-19 11:35:24</td>\n",
       "      <td>2016-01-19 12:10:48</td>\n",
       "      <td>1</td>\n",
       "      <td>-73.979027</td>\n",
       "      <td>40.763939</td>\n",
       "      <td>-74.005333</td>\n",
       "      <td>40.710087</td>\n",
       "      <td>N</td>\n",
       "      <td>2124</td>\n",
       "    </tr>\n",
       "    <tr>\n",
       "      <th>3</th>\n",
       "      <td>id3504673</td>\n",
       "      <td>2</td>\n",
       "      <td>2016-04-06 19:32:31</td>\n",
       "      <td>2016-04-06 19:39:40</td>\n",
       "      <td>1</td>\n",
       "      <td>-74.010040</td>\n",
       "      <td>40.719971</td>\n",
       "      <td>-74.012268</td>\n",
       "      <td>40.706718</td>\n",
       "      <td>N</td>\n",
       "      <td>429</td>\n",
       "    </tr>\n",
       "    <tr>\n",
       "      <th>4</th>\n",
       "      <td>id2181028</td>\n",
       "      <td>2</td>\n",
       "      <td>2016-03-26 13:30:55</td>\n",
       "      <td>2016-03-26 13:38:10</td>\n",
       "      <td>1</td>\n",
       "      <td>-73.973053</td>\n",
       "      <td>40.793209</td>\n",
       "      <td>-73.972923</td>\n",
       "      <td>40.782520</td>\n",
       "      <td>N</td>\n",
       "      <td>435</td>\n",
       "    </tr>\n",
       "  </tbody>\n",
       "</table>\n",
       "</div>"
      ],
      "text/plain": [
       "          id  vendor_id      pickup_datetime     dropoff_datetime  \\\n",
       "0  id2875421          2  2016-03-14 17:24:55  2016-03-14 17:32:30   \n",
       "1  id2377394          1  2016-06-12 00:43:35  2016-06-12 00:54:38   \n",
       "2  id3858529          2  2016-01-19 11:35:24  2016-01-19 12:10:48   \n",
       "3  id3504673          2  2016-04-06 19:32:31  2016-04-06 19:39:40   \n",
       "4  id2181028          2  2016-03-26 13:30:55  2016-03-26 13:38:10   \n",
       "\n",
       "   passenger_count  pickup_longitude  pickup_latitude  dropoff_longitude  \\\n",
       "0                1        -73.982155        40.767937         -73.964630   \n",
       "1                1        -73.980415        40.738564         -73.999481   \n",
       "2                1        -73.979027        40.763939         -74.005333   \n",
       "3                1        -74.010040        40.719971         -74.012268   \n",
       "4                1        -73.973053        40.793209         -73.972923   \n",
       "\n",
       "   dropoff_latitude store_and_fwd_flag  trip_duration  \n",
       "0         40.765602                  N            455  \n",
       "1         40.731152                  N            663  \n",
       "2         40.710087                  N           2124  \n",
       "3         40.706718                  N            429  \n",
       "4         40.782520                  N            435  "
      ]
     },
     "execution_count": 3,
     "metadata": {},
     "output_type": "execute_result"
    }
   ],
   "source": [
    "NYC_train.head()"
   ]
  },
  {
   "cell_type": "code",
   "execution_count": 4,
   "metadata": {
    "collapsed": false
   },
   "outputs": [
    {
     "data": {
      "text/html": [
       "<div>\n",
       "<table border=\"1\" class=\"dataframe\">\n",
       "  <thead>\n",
       "    <tr style=\"text-align: right;\">\n",
       "      <th></th>\n",
       "      <th>vendor_id</th>\n",
       "      <th>passenger_count</th>\n",
       "      <th>pickup_longitude</th>\n",
       "      <th>pickup_latitude</th>\n",
       "      <th>dropoff_longitude</th>\n",
       "      <th>dropoff_latitude</th>\n",
       "      <th>trip_duration</th>\n",
       "    </tr>\n",
       "  </thead>\n",
       "  <tbody>\n",
       "    <tr>\n",
       "      <th>count</th>\n",
       "      <td>1.458644e+06</td>\n",
       "      <td>1.458644e+06</td>\n",
       "      <td>1.458644e+06</td>\n",
       "      <td>1.458644e+06</td>\n",
       "      <td>1.458644e+06</td>\n",
       "      <td>1.458644e+06</td>\n",
       "      <td>1.458644e+06</td>\n",
       "    </tr>\n",
       "    <tr>\n",
       "      <th>mean</th>\n",
       "      <td>1.534950e+00</td>\n",
       "      <td>1.664530e+00</td>\n",
       "      <td>-7.397349e+01</td>\n",
       "      <td>4.075092e+01</td>\n",
       "      <td>-7.397342e+01</td>\n",
       "      <td>4.075180e+01</td>\n",
       "      <td>9.594923e+02</td>\n",
       "    </tr>\n",
       "    <tr>\n",
       "      <th>std</th>\n",
       "      <td>4.987772e-01</td>\n",
       "      <td>1.314242e+00</td>\n",
       "      <td>7.090186e-02</td>\n",
       "      <td>3.288119e-02</td>\n",
       "      <td>7.064327e-02</td>\n",
       "      <td>3.589056e-02</td>\n",
       "      <td>5.237432e+03</td>\n",
       "    </tr>\n",
       "    <tr>\n",
       "      <th>min</th>\n",
       "      <td>1.000000e+00</td>\n",
       "      <td>0.000000e+00</td>\n",
       "      <td>-1.219333e+02</td>\n",
       "      <td>3.435970e+01</td>\n",
       "      <td>-1.219333e+02</td>\n",
       "      <td>3.218114e+01</td>\n",
       "      <td>1.000000e+00</td>\n",
       "    </tr>\n",
       "    <tr>\n",
       "      <th>25%</th>\n",
       "      <td>1.000000e+00</td>\n",
       "      <td>1.000000e+00</td>\n",
       "      <td>-7.399187e+01</td>\n",
       "      <td>4.073735e+01</td>\n",
       "      <td>-7.399133e+01</td>\n",
       "      <td>4.073588e+01</td>\n",
       "      <td>3.970000e+02</td>\n",
       "    </tr>\n",
       "    <tr>\n",
       "      <th>50%</th>\n",
       "      <td>2.000000e+00</td>\n",
       "      <td>1.000000e+00</td>\n",
       "      <td>-7.398174e+01</td>\n",
       "      <td>4.075410e+01</td>\n",
       "      <td>-7.397975e+01</td>\n",
       "      <td>4.075452e+01</td>\n",
       "      <td>6.620000e+02</td>\n",
       "    </tr>\n",
       "    <tr>\n",
       "      <th>75%</th>\n",
       "      <td>2.000000e+00</td>\n",
       "      <td>2.000000e+00</td>\n",
       "      <td>-7.396733e+01</td>\n",
       "      <td>4.076836e+01</td>\n",
       "      <td>-7.396301e+01</td>\n",
       "      <td>4.076981e+01</td>\n",
       "      <td>1.075000e+03</td>\n",
       "    </tr>\n",
       "    <tr>\n",
       "      <th>max</th>\n",
       "      <td>2.000000e+00</td>\n",
       "      <td>9.000000e+00</td>\n",
       "      <td>-6.133553e+01</td>\n",
       "      <td>5.188108e+01</td>\n",
       "      <td>-6.133553e+01</td>\n",
       "      <td>4.392103e+01</td>\n",
       "      <td>3.526282e+06</td>\n",
       "    </tr>\n",
       "  </tbody>\n",
       "</table>\n",
       "</div>"
      ],
      "text/plain": [
       "          vendor_id  passenger_count  pickup_longitude  pickup_latitude  \\\n",
       "count  1.458644e+06     1.458644e+06      1.458644e+06     1.458644e+06   \n",
       "mean   1.534950e+00     1.664530e+00     -7.397349e+01     4.075092e+01   \n",
       "std    4.987772e-01     1.314242e+00      7.090186e-02     3.288119e-02   \n",
       "min    1.000000e+00     0.000000e+00     -1.219333e+02     3.435970e+01   \n",
       "25%    1.000000e+00     1.000000e+00     -7.399187e+01     4.073735e+01   \n",
       "50%    2.000000e+00     1.000000e+00     -7.398174e+01     4.075410e+01   \n",
       "75%    2.000000e+00     2.000000e+00     -7.396733e+01     4.076836e+01   \n",
       "max    2.000000e+00     9.000000e+00     -6.133553e+01     5.188108e+01   \n",
       "\n",
       "       dropoff_longitude  dropoff_latitude  trip_duration  \n",
       "count       1.458644e+06      1.458644e+06   1.458644e+06  \n",
       "mean       -7.397342e+01      4.075180e+01   9.594923e+02  \n",
       "std         7.064327e-02      3.589056e-02   5.237432e+03  \n",
       "min        -1.219333e+02      3.218114e+01   1.000000e+00  \n",
       "25%        -7.399133e+01      4.073588e+01   3.970000e+02  \n",
       "50%        -7.397975e+01      4.075452e+01   6.620000e+02  \n",
       "75%        -7.396301e+01      4.076981e+01   1.075000e+03  \n",
       "max        -6.133553e+01      4.392103e+01   3.526282e+06  "
      ]
     },
     "execution_count": 4,
     "metadata": {},
     "output_type": "execute_result"
    }
   ],
   "source": [
    "NYC_train.describe()"
   ]
  },
  {
   "cell_type": "markdown",
   "metadata": {},
   "source": [
    "Trip duration maximum and 75% values suggests there are outliers present in the dataset."
   ]
  },
  {
   "cell_type": "code",
   "execution_count": 5,
   "metadata": {
    "collapsed": false
   },
   "outputs": [
    {
     "name": "stdout",
     "output_type": "stream",
     "text": [
      "<class 'pandas.core.frame.DataFrame'>\n",
      "RangeIndex: 1458644 entries, 0 to 1458643\n",
      "Data columns (total 11 columns):\n",
      "id                    1458644 non-null object\n",
      "vendor_id             1458644 non-null int64\n",
      "pickup_datetime       1458644 non-null object\n",
      "dropoff_datetime      1458644 non-null object\n",
      "passenger_count       1458644 non-null int64\n",
      "pickup_longitude      1458644 non-null float64\n",
      "pickup_latitude       1458644 non-null float64\n",
      "dropoff_longitude     1458644 non-null float64\n",
      "dropoff_latitude      1458644 non-null float64\n",
      "store_and_fwd_flag    1458644 non-null object\n",
      "trip_duration         1458644 non-null int64\n",
      "dtypes: float64(4), int64(3), object(4)\n",
      "memory usage: 122.4+ MB\n"
     ]
    }
   ],
   "source": [
    "NYC_train.info()"
   ]
  },
  {
   "cell_type": "code",
   "execution_count": 6,
   "metadata": {
    "collapsed": false
   },
   "outputs": [
    {
     "data": {
      "text/html": [
       "<div>\n",
       "<table border=\"1\" class=\"dataframe\">\n",
       "  <thead>\n",
       "    <tr style=\"text-align: right;\">\n",
       "      <th></th>\n",
       "      <th>id</th>\n",
       "      <th>vendor_id</th>\n",
       "      <th>pickup_datetime</th>\n",
       "      <th>passenger_count</th>\n",
       "      <th>pickup_longitude</th>\n",
       "      <th>pickup_latitude</th>\n",
       "      <th>dropoff_longitude</th>\n",
       "      <th>dropoff_latitude</th>\n",
       "      <th>store_and_fwd_flag</th>\n",
       "    </tr>\n",
       "  </thead>\n",
       "  <tbody>\n",
       "    <tr>\n",
       "      <th>0</th>\n",
       "      <td>id3004672</td>\n",
       "      <td>1</td>\n",
       "      <td>2016-06-30 23:59:58</td>\n",
       "      <td>1</td>\n",
       "      <td>-73.988129</td>\n",
       "      <td>40.732029</td>\n",
       "      <td>-73.990173</td>\n",
       "      <td>40.756680</td>\n",
       "      <td>N</td>\n",
       "    </tr>\n",
       "    <tr>\n",
       "      <th>1</th>\n",
       "      <td>id3505355</td>\n",
       "      <td>1</td>\n",
       "      <td>2016-06-30 23:59:53</td>\n",
       "      <td>1</td>\n",
       "      <td>-73.964203</td>\n",
       "      <td>40.679993</td>\n",
       "      <td>-73.959808</td>\n",
       "      <td>40.655403</td>\n",
       "      <td>N</td>\n",
       "    </tr>\n",
       "    <tr>\n",
       "      <th>2</th>\n",
       "      <td>id1217141</td>\n",
       "      <td>1</td>\n",
       "      <td>2016-06-30 23:59:47</td>\n",
       "      <td>1</td>\n",
       "      <td>-73.997437</td>\n",
       "      <td>40.737583</td>\n",
       "      <td>-73.986160</td>\n",
       "      <td>40.729523</td>\n",
       "      <td>N</td>\n",
       "    </tr>\n",
       "    <tr>\n",
       "      <th>3</th>\n",
       "      <td>id2150126</td>\n",
       "      <td>2</td>\n",
       "      <td>2016-06-30 23:59:41</td>\n",
       "      <td>1</td>\n",
       "      <td>-73.956070</td>\n",
       "      <td>40.771900</td>\n",
       "      <td>-73.986427</td>\n",
       "      <td>40.730469</td>\n",
       "      <td>N</td>\n",
       "    </tr>\n",
       "    <tr>\n",
       "      <th>4</th>\n",
       "      <td>id1598245</td>\n",
       "      <td>1</td>\n",
       "      <td>2016-06-30 23:59:33</td>\n",
       "      <td>1</td>\n",
       "      <td>-73.970215</td>\n",
       "      <td>40.761475</td>\n",
       "      <td>-73.961510</td>\n",
       "      <td>40.755890</td>\n",
       "      <td>N</td>\n",
       "    </tr>\n",
       "  </tbody>\n",
       "</table>\n",
       "</div>"
      ],
      "text/plain": [
       "          id  vendor_id      pickup_datetime  passenger_count  \\\n",
       "0  id3004672          1  2016-06-30 23:59:58                1   \n",
       "1  id3505355          1  2016-06-30 23:59:53                1   \n",
       "2  id1217141          1  2016-06-30 23:59:47                1   \n",
       "3  id2150126          2  2016-06-30 23:59:41                1   \n",
       "4  id1598245          1  2016-06-30 23:59:33                1   \n",
       "\n",
       "   pickup_longitude  pickup_latitude  dropoff_longitude  dropoff_latitude  \\\n",
       "0        -73.988129        40.732029         -73.990173         40.756680   \n",
       "1        -73.964203        40.679993         -73.959808         40.655403   \n",
       "2        -73.997437        40.737583         -73.986160         40.729523   \n",
       "3        -73.956070        40.771900         -73.986427         40.730469   \n",
       "4        -73.970215        40.761475         -73.961510         40.755890   \n",
       "\n",
       "  store_and_fwd_flag  \n",
       "0                  N  \n",
       "1                  N  \n",
       "2                  N  \n",
       "3                  N  \n",
       "4                  N  "
      ]
     },
     "execution_count": 6,
     "metadata": {},
     "output_type": "execute_result"
    }
   ],
   "source": [
    "NYC_test.head()"
   ]
  },
  {
   "cell_type": "code",
   "execution_count": 7,
   "metadata": {
    "collapsed": false
   },
   "outputs": [
    {
     "name": "stdout",
     "output_type": "stream",
     "text": [
      "Total records in Train dataset :  1458644\n",
      "Total columns in Train dataset :  11\n",
      "\n",
      "Total records in test dataset :  625134\n",
      "Total columns in test dataset :  9\n"
     ]
    }
   ],
   "source": [
    "print('Total records in Train dataset : ', NYC_train.shape[0])\n",
    "print('Total columns in Train dataset : ', NYC_train.shape[1])\n",
    "print()\n",
    "print('Total records in test dataset : ', NYC_test.shape[0])\n",
    "print('Total columns in test dataset : ', NYC_test.shape[1])"
   ]
  },
  {
   "cell_type": "markdown",
   "metadata": {},
   "source": [
    "The train dataset contains 11 columns and the test dataset contains 9 columns. The two additional columns that are present in the train dataset, and not in the test dataset are dropoff_datetime and trip_duration."
   ]
  },
  {
   "cell_type": "markdown",
   "metadata": {},
   "source": [
    "# Check Data for NULL or missing values"
   ]
  },
  {
   "cell_type": "markdown",
   "metadata": {},
   "source": [
    "Are there any missing values in the train and test datasets?"
   ]
  },
  {
   "cell_type": "code",
   "execution_count": 8,
   "metadata": {
    "collapsed": false
   },
   "outputs": [
    {
     "data": {
      "text/plain": [
       "id                    0\n",
       "vendor_id             0\n",
       "pickup_datetime       0\n",
       "dropoff_datetime      0\n",
       "passenger_count       0\n",
       "pickup_longitude      0\n",
       "pickup_latitude       0\n",
       "dropoff_longitude     0\n",
       "dropoff_latitude      0\n",
       "store_and_fwd_flag    0\n",
       "trip_duration         0\n",
       "dtype: int64"
      ]
     },
     "execution_count": 8,
     "metadata": {},
     "output_type": "execute_result"
    }
   ],
   "source": [
    "NYC_train.isnull().sum()"
   ]
  },
  {
   "cell_type": "code",
   "execution_count": 9,
   "metadata": {
    "collapsed": false
   },
   "outputs": [
    {
     "data": {
      "text/plain": [
       "id                    0\n",
       "vendor_id             0\n",
       "pickup_datetime       0\n",
       "passenger_count       0\n",
       "pickup_longitude      0\n",
       "pickup_latitude       0\n",
       "dropoff_longitude     0\n",
       "dropoff_latitude      0\n",
       "store_and_fwd_flag    0\n",
       "dtype: int64"
      ]
     },
     "execution_count": 9,
     "metadata": {},
     "output_type": "execute_result"
    }
   ],
   "source": [
    "NYC_test.isnull().sum()"
   ]
  },
  {
   "cell_type": "markdown",
   "metadata": {},
   "source": [
    "Both the train and test datasets are clean & none of the values are missing."
   ]
  },
  {
   "cell_type": "markdown",
   "metadata": {},
   "source": [
    "# # Check if all the id's in the train and test datasets unique?<br> Is there an overlap, in the observations, between the train and test datasets"
   ]
  },
  {
   "cell_type": "code",
   "execution_count": 10,
   "metadata": {
    "collapsed": false
   },
   "outputs": [
    {
     "name": "stdout",
     "output_type": "stream",
     "text": [
      "No of observation in training dataset 1458644\n",
      "No of unique observation in training dataset 1458644 \n",
      "\n",
      "No of observation in test dataset 625134\n",
      "No of unique observation in test dataset 625134 \n",
      "\n",
      "Common id between Train and test dataset 0\n"
     ]
    }
   ],
   "source": [
    "print('No of observation in training dataset', len(NYC_train['id']))\n",
    "print('No of unique observation in training dataset', len(pd.unique(NYC_train['id'])), '\\n')\n",
    "\n",
    "print('No of observation in test dataset', len(NYC_test['id']))\n",
    "print('No of unique observation in test dataset', len(pd.unique(NYC_test['id'])), '\\n')\n",
    "\n",
    "print('Common id between Train and test dataset', len(set(NYC_train['id'].values).intersection(set(NYC_test['id'].values))))\n"
   ]
  },
  {
   "cell_type": "markdown",
   "metadata": {},
   "source": [
    "## Are all the vendor_id's in the train and test datasets unique?"
   ]
  },
  {
   "cell_type": "markdown",
   "metadata": {},
   "source": [
    "Vendor ID takes only two values in the dataset - 1 and 2. <br> This suggests these are 2 different companies operation taxis in NYC"
   ]
  },
  {
   "cell_type": "code",
   "execution_count": 11,
   "metadata": {
    "collapsed": false
   },
   "outputs": [
    {
     "name": "stdout",
     "output_type": "stream",
     "text": [
      "No of observation in training dataset 1458644\n",
      "No of unique observation in training dataset 2 \n",
      "\n",
      "No of observation in test dataset 625134\n",
      "No of unique observation in test dataset 2 \n",
      "\n",
      "Common id between Train and test dataset 2\n"
     ]
    }
   ],
   "source": [
    "print('No of observation in training dataset', len(NYC_train['id']))\n",
    "print('No of unique observation in training dataset', len(pd.unique(NYC_train['vendor_id'])), '\\n')\n",
    "\n",
    "print('No of observation in test dataset', len(NYC_test['id']))\n",
    "print('No of unique observation in test dataset', len(pd.unique(NYC_test['vendor_id'])), '\\n')\n",
    "\n",
    "print('Common id between Train and test dataset', len(set(NYC_train['vendor_id'].values).intersection(set(NYC_test['vendor_id'].values))))\n"
   ]
  },
  {
   "cell_type": "markdown",
   "metadata": {},
   "source": [
    "## Number of observations in the dataset from each of the companies are comparable or is there any imbalance?\n",
    "\n",
    "## Among the vendor_id's(1 and 2) - what is the distribution in the number of passengers"
   ]
  },
  {
   "cell_type": "code",
   "execution_count": 12,
   "metadata": {
    "collapsed": false
   },
   "outputs": [
    {
     "data": {
      "image/png": "[encoded data removed]",
      "text/plain": [
       "<matplotlib.figure.Figure at 0x4c24a58>"
      ]
     },
     "metadata": {},
     "output_type": "display_data"
    }
   ],
   "source": [
    "sns.countplot(NYC_train['vendor_id'])\n",
    "plt.show()"
   ]
  },
  {
   "cell_type": "code",
   "execution_count": 13,
   "metadata": {
    "collapsed": false
   },
   "outputs": [
    {
     "data": {
      "image/png": "[encoded data removed]",
      "text/plain": [
       "<matplotlib.figure.Figure at 0x4bae518>"
      ]
     },
     "metadata": {},
     "output_type": "display_data"
    }
   ],
   "source": [
    "sns.countplot(NYC_test['vendor_id'])\n",
    "plt.show()"
   ]
  },
  {
   "cell_type": "markdown",
   "metadata": {},
   "source": [
    "## What is Distribution of the number of passengers across the vendor_id 1 and 2"
   ]
  },
  {
   "cell_type": "code",
   "execution_count": 14,
   "metadata": {
    "collapsed": false
   },
   "outputs": [
    {
     "data": {
      "image/png": "[encoded data removed]",
      "text/plain": [
       "<matplotlib.figure.Figure at 0x127e7ac8>"
      ]
     },
     "metadata": {},
     "output_type": "display_data"
    }
   ],
   "source": [
    "sns.countplot(x='passenger_count', data=NYC_train[NYC_train['vendor_id']==1])\n",
    "plt.show()"
   ]
  },
  {
   "cell_type": "code",
   "execution_count": 15,
   "metadata": {
    "collapsed": false
   },
   "outputs": [
    {
     "data": {
      "image/png": "[encoded data removed]",
      "text/plain": [
       "<matplotlib.figure.Figure at 0x12850860>"
      ]
     },
     "metadata": {},
     "output_type": "display_data"
    }
   ],
   "source": [
    "sns.countplot(x='passenger_count', data=NYC_train[NYC_train['vendor_id']==2])\n",
    "plt.show()"
   ]
  },
  {
   "cell_type": "code",
   "execution_count": 16,
   "metadata": {
    "collapsed": false
   },
   "outputs": [
    {
     "data": {
      "image/png": "[encoded data removed]",
      "text/plain": [
       "<matplotlib.figure.Figure at 0x12aa5a20>"
      ]
     },
     "metadata": {},
     "output_type": "display_data"
    }
   ],
   "source": [
    "sns.countplot(x='passenger_count', data=NYC_test[NYC_test['vendor_id']==1])\n",
    "plt.show()"
   ]
  },
  {
   "cell_type": "code",
   "execution_count": 17,
   "metadata": {
    "collapsed": false
   },
   "outputs": [
    {
     "data": {
      "image/png": "[encoded data removed]",
      "text/plain": [
       "<matplotlib.figure.Figure at 0x13efc080>"
      ]
     },
     "metadata": {},
     "output_type": "display_data"
    }
   ],
   "source": [
    "sns.countplot(x='passenger_count', data=NYC_test[NYC_test['vendor_id']==2])\n",
    "plt.show()"
   ]
  },
  {
   "cell_type": "markdown",
   "metadata": {},
   "source": [
    "## What is the Distribution of the trip_duration"
   ]
  },
  {
   "cell_type": "code",
   "execution_count": 18,
   "metadata": {
    "collapsed": true
   },
   "outputs": [],
   "source": [
    "#Conversion to DateTime\n",
    "NYC_train['pickup_datetime'] = pd.to_datetime(NYC_train['pickup_datetime'])\n",
    "NYC_train['dropoff_datetime'] = pd.to_datetime(NYC_train['dropoff_datetime'])\n",
    "\n",
    "NYC_test['pickup_datetime'] = pd.to_datetime(NYC_test['pickup_datetime'])"
   ]
  },
  {
   "cell_type": "code",
   "execution_count": 19,
   "metadata": {
    "collapsed": false
   },
   "outputs": [
    {
     "data": {
      "text/plain": [
       "count    1.458644e+06\n",
       "mean     9.594923e+02\n",
       "std      5.237432e+03\n",
       "min      1.000000e+00\n",
       "25%      3.970000e+02\n",
       "50%      6.620000e+02\n",
       "75%      1.075000e+03\n",
       "max      3.526282e+06\n",
       "Name: trip_duration, dtype: float64"
      ]
     },
     "execution_count": 19,
     "metadata": {},
     "output_type": "execute_result"
    }
   ],
   "source": [
    "# Trip_duration represents the difference between the dropoff_datetime and the pickup_datetime.\n",
    "NYC_train['trip_duration'].describe()"
   ]
  },
  {
   "cell_type": "code",
   "execution_count": 20,
   "metadata": {
    "collapsed": false
   },
   "outputs": [
    {
     "data": {
      "text/plain": [
       "count                   1458644\n",
       "mean     0 days 00:15:59.492272\n",
       "std      0 days 01:27:17.431724\n",
       "min             0 days 00:00:01\n",
       "25%             0 days 00:06:37\n",
       "50%             0 days 00:11:02\n",
       "75%             0 days 00:17:55\n",
       "max            40 days 19:31:22\n",
       "dtype: object"
      ]
     },
     "execution_count": 20,
     "metadata": {},
     "output_type": "execute_result"
    }
   ],
   "source": [
    "# Lets see in Datetime values instead of seconds.\n",
    "(NYC_train['dropoff_datetime'].subtract(NYC_train['pickup_datetime'])).describe()"
   ]
  },
  {
   "cell_type": "markdown",
   "metadata": {},
   "source": [
    "Looks like one of the trip had 40 days as trip duration which does not seems reasonable.<br> Let us plot the trip duration in seconds to view any other possbile outliers."
   ]
  },
  {
   "cell_type": "code",
   "execution_count": 21,
   "metadata": {
    "collapsed": false
   },
   "outputs": [
    {
     "data": {
      "image/png": "[encoded data removed]",
      "text/plain": [
       "<matplotlib.figure.Figure at 0x13f1d5f8>"
      ]
     },
     "metadata": {},
     "output_type": "display_data"
    }
   ],
   "source": [
    "plt.figure(figsize=(10,10))\n",
    "plt.scatter(range(len(NYC_train['trip_duration'])), np.sort(NYC_train['trip_duration']))\n",
    "plt.xlabel('Index')\n",
    "plt.ylabel('Trip Duration in seconds')\n",
    "plt.show()"
   ]
  },
  {
   "cell_type": "markdown",
   "metadata": {},
   "source": [
    "There are 4 outliers with trip duration of over 20 days"
   ]
  },
  {
   "cell_type": "code",
   "execution_count": 77,
   "metadata": {
    "collapsed": true
   },
   "outputs": [],
   "source": [
    "#remove Outliers from dataset\n",
    "NYC_train = NYC_train[NYC_train['trip_duration'] < 500000]"
   ]
  },
  {
   "cell_type": "code",
   "execution_count": 23,
   "metadata": {
    "collapsed": false
   },
   "outputs": [
    {
     "data": {
      "text/plain": [
       "count                   1458640\n",
       "mean     0 days 00:15:52.815251\n",
       "std      0 days 00:52:51.322283\n",
       "min             0 days 00:00:01\n",
       "25%             0 days 00:06:37\n",
       "50%             0 days 00:11:02\n",
       "75%             0 days 00:17:55\n",
       "max             0 days 23:59:52\n",
       "dtype: object"
      ]
     },
     "execution_count": 23,
     "metadata": {},
     "output_type": "execute_result"
    }
   ],
   "source": [
    "(NYC_train['dropoff_datetime'].subtract(NYC_train['pickup_datetime'])).describe()"
   ]
  },
  {
   "cell_type": "code",
   "execution_count": 24,
   "metadata": {
    "collapsed": false
   },
   "outputs": [
    {
     "data": {
      "image/png": "[encoded data removed]",
      "text/plain": [
       "<matplotlib.figure.Figure at 0x2ee7dba8>"
      ]
     },
     "metadata": {},
     "output_type": "display_data"
    }
   ],
   "source": [
    "plt.figure(figsize=(10,10))\n",
    "plt.scatter(range(len(NYC_train['trip_duration'])) , np.sort(NYC_train['trip_duration']))\n",
    "plt.xlabel('index')\n",
    "plt.ylabel('Trip Duration')\n",
    "plt.show()"
   ]
  },
  {
   "cell_type": "markdown",
   "metadata": {},
   "source": [
    "Few trips have duration nearby to 23 hrs"
   ]
  },
  {
   "cell_type": "markdown",
   "metadata": {},
   "source": [
    "## What is the Distribution of the store_and_fwd_flag"
   ]
  },
  {
   "cell_type": "code",
   "execution_count": 25,
   "metadata": {
    "collapsed": false
   },
   "outputs": [
    {
     "data": {
      "image/png": "[encoded data removed]",
      "text/plain": [
       "<matplotlib.figure.Figure at 0x356f6cf8>"
      ]
     },
     "metadata": {},
     "output_type": "display_data"
    }
   ],
   "source": [
    "sns.countplot(x='store_and_fwd_flag', data=NYC_train)\n",
    "plt.show()"
   ]
  },
  {
   "cell_type": "code",
   "execution_count": 26,
   "metadata": {
    "collapsed": false
   },
   "outputs": [
    {
     "data": {
      "text/plain": [
       "99.44845883836999"
      ]
     },
     "execution_count": 26,
     "metadata": {},
     "output_type": "execute_result"
    }
   ],
   "source": [
    "len(NYC_train[NYC_train['store_and_fwd_flag'] == 'N'])*100/NYC_train.count()[0]"
   ]
  },
  {
   "cell_type": "markdown",
   "metadata": {},
   "source": [
    "99.44% trips were recorded correctly with celular data . However there are trips whose corrdianates may not have been recorded correctly and hence trip duration may have exceeded. we will need to remove those records before building model. "
   ]
  },
  {
   "cell_type": "code",
   "execution_count": 27,
   "metadata": {
    "collapsed": false
   },
   "outputs": [
    {
     "data": {
      "text/plain": [
       "{1}"
      ]
     },
     "execution_count": 27,
     "metadata": {},
     "output_type": "execute_result"
    }
   ],
   "source": [
    "set(NYC_train[NYC_train['store_and_fwd_flag'] == 'Y']['vendor_id'])"
   ]
  },
  {
   "cell_type": "markdown",
   "metadata": {},
   "source": [
    "All wrongly recorded values are from Vendor 1"
   ]
  },
  {
   "cell_type": "markdown",
   "metadata": {},
   "source": [
    "## Lets Calculate Distance between pickup and dropoff latitude/longitude coordinates."
   ]
  },
  {
   "cell_type": "code",
   "execution_count": 28,
   "metadata": {
    "collapsed": true
   },
   "outputs": [],
   "source": [
    "from haversine import haversine"
   ]
  },
  {
   "cell_type": "code",
   "execution_count": 29,
   "metadata": {
    "collapsed": true
   },
   "outputs": [],
   "source": [
    "def haversine_distance(record):\n",
    "    return haversine((record['pickup_latitude'], record['pickup_longitude']),\n",
    "                    (record['dropoff_latitude'], record['dropoff_longitude']), miles=True)"
   ]
  },
  {
   "cell_type": "code",
   "execution_count": 30,
   "metadata": {
    "collapsed": true
   },
   "outputs": [],
   "source": [
    "NYC_train['haversine_distance'] = NYC_train.apply(lambda record : haversine_distance(record), axis=1)\n",
    "NYC_test['haversine_distance'] = NYC_test.apply(lambda record : haversine_distance(record), axis=1)"
   ]
  },
  {
   "cell_type": "code",
   "execution_count": 31,
   "metadata": {
    "collapsed": false
   },
   "outputs": [
    {
     "data": {
      "text/html": [
       "<div>\n",
       "<table border=\"1\" class=\"dataframe\">\n",
       "  <thead>\n",
       "    <tr style=\"text-align: right;\">\n",
       "      <th></th>\n",
       "      <th>id</th>\n",
       "      <th>vendor_id</th>\n",
       "      <th>pickup_datetime</th>\n",
       "      <th>dropoff_datetime</th>\n",
       "      <th>passenger_count</th>\n",
       "      <th>pickup_longitude</th>\n",
       "      <th>pickup_latitude</th>\n",
       "      <th>dropoff_longitude</th>\n",
       "      <th>dropoff_latitude</th>\n",
       "      <th>store_and_fwd_flag</th>\n",
       "      <th>trip_duration</th>\n",
       "      <th>haversine_distance</th>\n",
       "    </tr>\n",
       "  </thead>\n",
       "  <tbody>\n",
       "    <tr>\n",
       "      <th>0</th>\n",
       "      <td>id2875421</td>\n",
       "      <td>2</td>\n",
       "      <td>2016-03-14 17:24:55</td>\n",
       "      <td>2016-03-14 17:32:30</td>\n",
       "      <td>1</td>\n",
       "      <td>-73.982155</td>\n",
       "      <td>40.767937</td>\n",
       "      <td>-73.964630</td>\n",
       "      <td>40.765602</td>\n",
       "      <td>N</td>\n",
       "      <td>455</td>\n",
       "      <td>0.931137</td>\n",
       "    </tr>\n",
       "    <tr>\n",
       "      <th>1</th>\n",
       "      <td>id2377394</td>\n",
       "      <td>1</td>\n",
       "      <td>2016-06-12 00:43:35</td>\n",
       "      <td>2016-06-12 00:54:38</td>\n",
       "      <td>1</td>\n",
       "      <td>-73.980415</td>\n",
       "      <td>40.738564</td>\n",
       "      <td>-73.999481</td>\n",
       "      <td>40.731152</td>\n",
       "      <td>N</td>\n",
       "      <td>663</td>\n",
       "      <td>1.121890</td>\n",
       "    </tr>\n",
       "    <tr>\n",
       "      <th>2</th>\n",
       "      <td>id3858529</td>\n",
       "      <td>2</td>\n",
       "      <td>2016-01-19 11:35:24</td>\n",
       "      <td>2016-01-19 12:10:48</td>\n",
       "      <td>1</td>\n",
       "      <td>-73.979027</td>\n",
       "      <td>40.763939</td>\n",
       "      <td>-74.005333</td>\n",
       "      <td>40.710087</td>\n",
       "      <td>N</td>\n",
       "      <td>2124</td>\n",
       "      <td>3.967515</td>\n",
       "    </tr>\n",
       "    <tr>\n",
       "      <th>3</th>\n",
       "      <td>id3504673</td>\n",
       "      <td>2</td>\n",
       "      <td>2016-04-06 19:32:31</td>\n",
       "      <td>2016-04-06 19:39:40</td>\n",
       "      <td>1</td>\n",
       "      <td>-74.010040</td>\n",
       "      <td>40.719971</td>\n",
       "      <td>-74.012268</td>\n",
       "      <td>40.706718</td>\n",
       "      <td>N</td>\n",
       "      <td>429</td>\n",
       "      <td>0.923046</td>\n",
       "    </tr>\n",
       "    <tr>\n",
       "      <th>4</th>\n",
       "      <td>id2181028</td>\n",
       "      <td>2</td>\n",
       "      <td>2016-03-26 13:30:55</td>\n",
       "      <td>2016-03-26 13:38:10</td>\n",
       "      <td>1</td>\n",
       "      <td>-73.973053</td>\n",
       "      <td>40.793209</td>\n",
       "      <td>-73.972923</td>\n",
       "      <td>40.782520</td>\n",
       "      <td>N</td>\n",
       "      <td>435</td>\n",
       "      <td>0.738554</td>\n",
       "    </tr>\n",
       "  </tbody>\n",
       "</table>\n",
       "</div>"
      ],
      "text/plain": [
       "          id  vendor_id     pickup_datetime    dropoff_datetime  \\\n",
       "0  id2875421          2 2016-03-14 17:24:55 2016-03-14 17:32:30   \n",
       "1  id2377394          1 2016-06-12 00:43:35 2016-06-12 00:54:38   \n",
       "2  id3858529          2 2016-01-19 11:35:24 2016-01-19 12:10:48   \n",
       "3  id3504673          2 2016-04-06 19:32:31 2016-04-06 19:39:40   \n",
       "4  id2181028          2 2016-03-26 13:30:55 2016-03-26 13:38:10   \n",
       "\n",
       "   passenger_count  pickup_longitude  pickup_latitude  dropoff_longitude  \\\n",
       "0                1        -73.982155        40.767937         -73.964630   \n",
       "1                1        -73.980415        40.738564         -73.999481   \n",
       "2                1        -73.979027        40.763939         -74.005333   \n",
       "3                1        -74.010040        40.719971         -74.012268   \n",
       "4                1        -73.973053        40.793209         -73.972923   \n",
       "\n",
       "   dropoff_latitude store_and_fwd_flag  trip_duration  haversine_distance  \n",
       "0         40.765602                  N            455            0.931137  \n",
       "1         40.731152                  N            663            1.121890  \n",
       "2         40.710087                  N           2124            3.967515  \n",
       "3         40.706718                  N            429            0.923046  \n",
       "4         40.782520                  N            435            0.738554  "
      ]
     },
     "execution_count": 31,
     "metadata": {},
     "output_type": "execute_result"
    }
   ],
   "source": [
    "NYC_train.head()"
   ]
  },
  {
   "cell_type": "code",
   "execution_count": 32,
   "metadata": {
    "collapsed": false
   },
   "outputs": [
    {
     "data": {
      "image/png": "[encoded data removed]",
      "text/plain": [
       "<matplotlib.figure.Figure at 0x3573b828>"
      ]
     },
     "metadata": {},
     "output_type": "display_data"
    }
   ],
   "source": [
    "#Plot haversine distance and trip duration\n",
    "plt.figure(figsize=(10,10))\n",
    "sns.regplot(x='haversine_distance', y='trip_duration', data=NYC_train)\n",
    "plt.show()"
   ]
  },
  {
   "cell_type": "markdown",
   "metadata": {},
   "source": [
    "Deviation in regression line could be due to outliers. Lets remove them and see the results again."
   ]
  },
  {
   "cell_type": "code",
   "execution_count": 33,
   "metadata": {
    "collapsed": false
   },
   "outputs": [
    {
     "data": {
      "text/html": [
       "<div>\n",
       "<table border=\"1\" class=\"dataframe\">\n",
       "  <thead>\n",
       "    <tr style=\"text-align: right;\">\n",
       "      <th></th>\n",
       "      <th>id</th>\n",
       "      <th>vendor_id</th>\n",
       "      <th>pickup_datetime</th>\n",
       "      <th>dropoff_datetime</th>\n",
       "      <th>passenger_count</th>\n",
       "      <th>pickup_longitude</th>\n",
       "      <th>pickup_latitude</th>\n",
       "      <th>dropoff_longitude</th>\n",
       "      <th>dropoff_latitude</th>\n",
       "      <th>store_and_fwd_flag</th>\n",
       "      <th>trip_duration</th>\n",
       "      <th>haversine_distance</th>\n",
       "    </tr>\n",
       "  </thead>\n",
       "  <tbody>\n",
       "    <tr>\n",
       "      <th>114376</th>\n",
       "      <td>id1311087</td>\n",
       "      <td>1</td>\n",
       "      <td>2016-02-29 12:16:29</td>\n",
       "      <td>2016-02-29 18:47:09</td>\n",
       "      <td>3</td>\n",
       "      <td>-75.455917</td>\n",
       "      <td>39.803932</td>\n",
       "      <td>-73.796021</td>\n",
       "      <td>40.707726</td>\n",
       "      <td>N</td>\n",
       "      <td>23440</td>\n",
       "      <td>107.515425</td>\n",
       "    </tr>\n",
       "    <tr>\n",
       "      <th>184925</th>\n",
       "      <td>id2306955</td>\n",
       "      <td>1</td>\n",
       "      <td>2016-05-07 18:58:53</td>\n",
       "      <td>2016-05-07 19:12:05</td>\n",
       "      <td>1</td>\n",
       "      <td>-72.809669</td>\n",
       "      <td>51.881084</td>\n",
       "      <td>-73.987228</td>\n",
       "      <td>40.750599</td>\n",
       "      <td>N</td>\n",
       "      <td>792</td>\n",
       "      <td>771.064665</td>\n",
       "    </tr>\n",
       "    <tr>\n",
       "      <th>275644</th>\n",
       "      <td>id0978162</td>\n",
       "      <td>1</td>\n",
       "      <td>2016-02-24 16:20:59</td>\n",
       "      <td>2016-02-24 16:35:34</td>\n",
       "      <td>4</td>\n",
       "      <td>-75.354332</td>\n",
       "      <td>34.712234</td>\n",
       "      <td>-73.834923</td>\n",
       "      <td>32.181141</td>\n",
       "      <td>N</td>\n",
       "      <td>875</td>\n",
       "      <td>195.585348</td>\n",
       "    </tr>\n",
       "    <tr>\n",
       "      <th>377068</th>\n",
       "      <td>id0116374</td>\n",
       "      <td>1</td>\n",
       "      <td>2016-04-02 20:33:19</td>\n",
       "      <td>2016-04-02 20:38:01</td>\n",
       "      <td>1</td>\n",
       "      <td>-74.007095</td>\n",
       "      <td>40.717113</td>\n",
       "      <td>-76.963242</td>\n",
       "      <td>38.946033</td>\n",
       "      <td>N</td>\n",
       "      <td>282</td>\n",
       "      <td>198.916873</td>\n",
       "    </tr>\n",
       "    <tr>\n",
       "      <th>397526</th>\n",
       "      <td>id0982904</td>\n",
       "      <td>1</td>\n",
       "      <td>2016-04-28 13:32:14</td>\n",
       "      <td>2016-04-28 14:14:09</td>\n",
       "      <td>2</td>\n",
       "      <td>-73.870682</td>\n",
       "      <td>40.773598</td>\n",
       "      <td>-79.817978</td>\n",
       "      <td>38.963852</td>\n",
       "      <td>N</td>\n",
       "      <td>2515</td>\n",
       "      <td>339.177534</td>\n",
       "    </tr>\n",
       "    <tr>\n",
       "      <th>644165</th>\n",
       "      <td>id0401529</td>\n",
       "      <td>2</td>\n",
       "      <td>2016-06-02 15:19:35</td>\n",
       "      <td>2016-06-02 15:32:59</td>\n",
       "      <td>1</td>\n",
       "      <td>-73.980751</td>\n",
       "      <td>40.757111</td>\n",
       "      <td>-74.240051</td>\n",
       "      <td>38.478298</td>\n",
       "      <td>N</td>\n",
       "      <td>804</td>\n",
       "      <td>158.054116</td>\n",
       "    </tr>\n",
       "    <tr>\n",
       "      <th>910072</th>\n",
       "      <td>id1146400</td>\n",
       "      <td>1</td>\n",
       "      <td>2016-02-15 18:57:32</td>\n",
       "      <td>2016-02-15 19:02:35</td>\n",
       "      <td>2</td>\n",
       "      <td>-73.989914</td>\n",
       "      <td>40.756634</td>\n",
       "      <td>-70.346077</td>\n",
       "      <td>36.398121</td>\n",
       "      <td>N</td>\n",
       "      <td>303</td>\n",
       "      <td>359.676140</td>\n",
       "    </tr>\n",
       "    <tr>\n",
       "      <th>923793</th>\n",
       "      <td>id1001696</td>\n",
       "      <td>1</td>\n",
       "      <td>2016-02-24 21:02:32</td>\n",
       "      <td>2016-02-24 21:25:57</td>\n",
       "      <td>1</td>\n",
       "      <td>-73.972366</td>\n",
       "      <td>40.758633</td>\n",
       "      <td>-79.553535</td>\n",
       "      <td>43.674000</td>\n",
       "      <td>N</td>\n",
       "      <td>1405</td>\n",
       "      <td>349.356641</td>\n",
       "    </tr>\n",
       "    <tr>\n",
       "      <th>974378</th>\n",
       "      <td>id1510552</td>\n",
       "      <td>2</td>\n",
       "      <td>2016-01-06 20:40:52</td>\n",
       "      <td>2016-01-06 20:51:03</td>\n",
       "      <td>5</td>\n",
       "      <td>-71.799896</td>\n",
       "      <td>35.081532</td>\n",
       "      <td>-79.352837</td>\n",
       "      <td>40.436329</td>\n",
       "      <td>N</td>\n",
       "      <td>611</td>\n",
       "      <td>553.774599</td>\n",
       "    </tr>\n",
       "    <tr>\n",
       "      <th>1013474</th>\n",
       "      <td>id3626673</td>\n",
       "      <td>1</td>\n",
       "      <td>2016-05-05 18:02:50</td>\n",
       "      <td>2016-05-05 18:18:23</td>\n",
       "      <td>1</td>\n",
       "      <td>-73.978912</td>\n",
       "      <td>40.756763</td>\n",
       "      <td>-79.338699</td>\n",
       "      <td>41.427902</td>\n",
       "      <td>N</td>\n",
       "      <td>933</td>\n",
       "      <td>282.873682</td>\n",
       "    </tr>\n",
       "    <tr>\n",
       "      <th>1060807</th>\n",
       "      <td>id0838705</td>\n",
       "      <td>1</td>\n",
       "      <td>2016-02-26 19:50:03</td>\n",
       "      <td>2016-02-26 20:08:54</td>\n",
       "      <td>1</td>\n",
       "      <td>-66.972160</td>\n",
       "      <td>44.371944</td>\n",
       "      <td>-69.048019</td>\n",
       "      <td>43.147583</td>\n",
       "      <td>N</td>\n",
       "      <td>1131</td>\n",
       "      <td>133.735551</td>\n",
       "    </tr>\n",
       "    <tr>\n",
       "      <th>1100676</th>\n",
       "      <td>id2644780</td>\n",
       "      <td>1</td>\n",
       "      <td>2016-05-03 16:24:07</td>\n",
       "      <td>2016-05-03 17:18:34</td>\n",
       "      <td>2</td>\n",
       "      <td>-73.991325</td>\n",
       "      <td>40.750023</td>\n",
       "      <td>-79.518616</td>\n",
       "      <td>43.921028</td>\n",
       "      <td>N</td>\n",
       "      <td>3267</td>\n",
       "      <td>357.210929</td>\n",
       "    </tr>\n",
       "    <tr>\n",
       "      <th>1301396</th>\n",
       "      <td>id1216866</td>\n",
       "      <td>1</td>\n",
       "      <td>2016-03-26 22:01:54</td>\n",
       "      <td>2016-03-27 00:47:16</td>\n",
       "      <td>1</td>\n",
       "      <td>-73.981491</td>\n",
       "      <td>40.773251</td>\n",
       "      <td>-76.135719</td>\n",
       "      <td>40.243626</td>\n",
       "      <td>N</td>\n",
       "      <td>9922</td>\n",
       "      <td>118.932144</td>\n",
       "    </tr>\n",
       "  </tbody>\n",
       "</table>\n",
       "</div>"
      ],
      "text/plain": [
       "                id  vendor_id     pickup_datetime    dropoff_datetime  \\\n",
       "114376   id1311087          1 2016-02-29 12:16:29 2016-02-29 18:47:09   \n",
       "184925   id2306955          1 2016-05-07 18:58:53 2016-05-07 19:12:05   \n",
       "275644   id0978162          1 2016-02-24 16:20:59 2016-02-24 16:35:34   \n",
       "377068   id0116374          1 2016-04-02 20:33:19 2016-04-02 20:38:01   \n",
       "397526   id0982904          1 2016-04-28 13:32:14 2016-04-28 14:14:09   \n",
       "644165   id0401529          2 2016-06-02 15:19:35 2016-06-02 15:32:59   \n",
       "910072   id1146400          1 2016-02-15 18:57:32 2016-02-15 19:02:35   \n",
       "923793   id1001696          1 2016-02-24 21:02:32 2016-02-24 21:25:57   \n",
       "974378   id1510552          2 2016-01-06 20:40:52 2016-01-06 20:51:03   \n",
       "1013474  id3626673          1 2016-05-05 18:02:50 2016-05-05 18:18:23   \n",
       "1060807  id0838705          1 2016-02-26 19:50:03 2016-02-26 20:08:54   \n",
       "1100676  id2644780          1 2016-05-03 16:24:07 2016-05-03 17:18:34   \n",
       "1301396  id1216866          1 2016-03-26 22:01:54 2016-03-27 00:47:16   \n",
       "\n",
       "         passenger_count  pickup_longitude  pickup_latitude  \\\n",
       "114376                 3        -75.455917        39.803932   \n",
       "184925                 1        -72.809669        51.881084   \n",
       "275644                 4        -75.354332        34.712234   \n",
       "377068                 1        -74.007095        40.717113   \n",
       "397526                 2        -73.870682        40.773598   \n",
       "644165                 1        -73.980751        40.757111   \n",
       "910072                 2        -73.989914        40.756634   \n",
       "923793                 1        -73.972366        40.758633   \n",
       "974378                 5        -71.799896        35.081532   \n",
       "1013474                1        -73.978912        40.756763   \n",
       "1060807                1        -66.972160        44.371944   \n",
       "1100676                2        -73.991325        40.750023   \n",
       "1301396                1        -73.981491        40.773251   \n",
       "\n",
       "         dropoff_longitude  dropoff_latitude store_and_fwd_flag  \\\n",
       "114376          -73.796021         40.707726                  N   \n",
       "184925          -73.987228         40.750599                  N   \n",
       "275644          -73.834923         32.181141                  N   \n",
       "377068          -76.963242         38.946033                  N   \n",
       "397526          -79.817978         38.963852                  N   \n",
       "644165          -74.240051         38.478298                  N   \n",
       "910072          -70.346077         36.398121                  N   \n",
       "923793          -79.553535         43.674000                  N   \n",
       "974378          -79.352837         40.436329                  N   \n",
       "1013474         -79.338699         41.427902                  N   \n",
       "1060807         -69.048019         43.147583                  N   \n",
       "1100676         -79.518616         43.921028                  N   \n",
       "1301396         -76.135719         40.243626                  N   \n",
       "\n",
       "         trip_duration  haversine_distance  \n",
       "114376           23440          107.515425  \n",
       "184925             792          771.064665  \n",
       "275644             875          195.585348  \n",
       "377068             282          198.916873  \n",
       "397526            2515          339.177534  \n",
       "644165             804          158.054116  \n",
       "910072             303          359.676140  \n",
       "923793            1405          349.356641  \n",
       "974378             611          553.774599  \n",
       "1013474            933          282.873682  \n",
       "1060807           1131          133.735551  \n",
       "1100676           3267          357.210929  \n",
       "1301396           9922          118.932144  "
      ]
     },
     "execution_count": 33,
     "metadata": {},
     "output_type": "execute_result"
    }
   ],
   "source": [
    "NYC_train[NYC_train['haversine_distance'] > 100]"
   ]
  },
  {
   "cell_type": "code",
   "execution_count": 34,
   "metadata": {
    "collapsed": false
   },
   "outputs": [
    {
     "data": {
      "image/png": "[encoded data removed]",
      "text/plain": [
       "<matplotlib.figure.Figure at 0x358a2b38>"
      ]
     },
     "metadata": {},
     "output_type": "display_data"
    }
   ],
   "source": [
    "plt.figure(figsize=(10,10))\n",
    "sns.regplot(x='haversine_distance', y='trip_duration', data=NYC_train[NYC_train['haversine_distance'] < 100])\n",
    "plt.show()"
   ]
  },
  {
   "cell_type": "markdown",
   "metadata": {},
   "source": [
    "## Explore the number of trips at each timestamp"
   ]
  },
  {
   "cell_type": "code",
   "execution_count": 35,
   "metadata": {
    "collapsed": false
   },
   "outputs": [
    {
     "name": "stdout",
     "output_type": "stream",
     "text": [
      " Training distance start date  2016-01-01 00:00:17\n",
      " Training distance end date  2016-06-30 23:59:39\n"
     ]
    }
   ],
   "source": [
    "print(' Training distance start date ', min(NYC_train['pickup_datetime']))\n",
    "print(' Training distance end date ', max(NYC_train['pickup_datetime']))"
   ]
  },
  {
   "cell_type": "markdown",
   "metadata": {},
   "source": [
    "Trip lies between 1st Jan 2016 to 30th June 2016 i.e 6 months of data"
   ]
  },
  {
   "cell_type": "code",
   "execution_count": 36,
   "metadata": {
    "collapsed": true
   },
   "outputs": [],
   "source": [
    "NYC_train['pickup_weekdayname'] = NYC_train.pickup_datetime.dt.weekday_name\n",
    "NYC_train['pickup_hour'] = NYC_train.pickup_datetime.dt.hour\n",
    "NYC_train['pickup_month'] = NYC_train.pickup_datetime.dt.month\n",
    "NYC_train['week_of_year'] = NYC_train.pickup_datetime.dt.weekofyear\n",
    "NYC_train['day_of_year'] = NYC_train.pickup_datetime.dt.dayofyear\n",
    "NYC_train['pickup_dayofweek']  = NYC_train.pickup_datetime.dt.dayofweek\n",
    "\n",
    "NYC_test['pickup_weekdayname'] = NYC_test.pickup_datetime.dt.weekday_name\n",
    "NYC_test['pickup_hour'] = NYC_test.pickup_datetime.dt.hour\n",
    "NYC_test['pickup_month'] = NYC_test.pickup_datetime.dt.month\n",
    "NYC_test['week_of_year'] = NYC_test.pickup_datetime.dt.weekofyear\n",
    "NYC_test['day_of_year'] = NYC_test.pickup_datetime.dt.dayofyear\n",
    "NYC_test['pickup_dayofweek']  = NYC_test.pickup_datetime.dt.dayofweek"
   ]
  },
  {
   "cell_type": "code",
   "execution_count": 37,
   "metadata": {
    "collapsed": false
   },
   "outputs": [
    {
     "data": {
      "text/html": [
       "<div>\n",
       "<table border=\"1\" class=\"dataframe\">\n",
       "  <thead>\n",
       "    <tr style=\"text-align: right;\">\n",
       "      <th></th>\n",
       "      <th>id</th>\n",
       "      <th>vendor_id</th>\n",
       "      <th>pickup_datetime</th>\n",
       "      <th>dropoff_datetime</th>\n",
       "      <th>passenger_count</th>\n",
       "      <th>pickup_longitude</th>\n",
       "      <th>pickup_latitude</th>\n",
       "      <th>dropoff_longitude</th>\n",
       "      <th>dropoff_latitude</th>\n",
       "      <th>store_and_fwd_flag</th>\n",
       "      <th>trip_duration</th>\n",
       "      <th>haversine_distance</th>\n",
       "      <th>pickup_weekdayname</th>\n",
       "      <th>pickup_hour</th>\n",
       "      <th>pickup_month</th>\n",
       "      <th>week_of_year</th>\n",
       "      <th>day_of_year</th>\n",
       "      <th>pickup_dayofweek</th>\n",
       "    </tr>\n",
       "  </thead>\n",
       "  <tbody>\n",
       "    <tr>\n",
       "      <th>0</th>\n",
       "      <td>id2875421</td>\n",
       "      <td>2</td>\n",
       "      <td>2016-03-14 17:24:55</td>\n",
       "      <td>2016-03-14 17:32:30</td>\n",
       "      <td>1</td>\n",
       "      <td>-73.982155</td>\n",
       "      <td>40.767937</td>\n",
       "      <td>-73.964630</td>\n",
       "      <td>40.765602</td>\n",
       "      <td>N</td>\n",
       "      <td>455</td>\n",
       "      <td>0.931137</td>\n",
       "      <td>Monday</td>\n",
       "      <td>17</td>\n",
       "      <td>3</td>\n",
       "      <td>11</td>\n",
       "      <td>74</td>\n",
       "      <td>0</td>\n",
       "    </tr>\n",
       "    <tr>\n",
       "      <th>1</th>\n",
       "      <td>id2377394</td>\n",
       "      <td>1</td>\n",
       "      <td>2016-06-12 00:43:35</td>\n",
       "      <td>2016-06-12 00:54:38</td>\n",
       "      <td>1</td>\n",
       "      <td>-73.980415</td>\n",
       "      <td>40.738564</td>\n",
       "      <td>-73.999481</td>\n",
       "      <td>40.731152</td>\n",
       "      <td>N</td>\n",
       "      <td>663</td>\n",
       "      <td>1.121890</td>\n",
       "      <td>Sunday</td>\n",
       "      <td>0</td>\n",
       "      <td>6</td>\n",
       "      <td>23</td>\n",
       "      <td>164</td>\n",
       "      <td>6</td>\n",
       "    </tr>\n",
       "    <tr>\n",
       "      <th>2</th>\n",
       "      <td>id3858529</td>\n",
       "      <td>2</td>\n",
       "      <td>2016-01-19 11:35:24</td>\n",
       "      <td>2016-01-19 12:10:48</td>\n",
       "      <td>1</td>\n",
       "      <td>-73.979027</td>\n",
       "      <td>40.763939</td>\n",
       "      <td>-74.005333</td>\n",
       "      <td>40.710087</td>\n",
       "      <td>N</td>\n",
       "      <td>2124</td>\n",
       "      <td>3.967515</td>\n",
       "      <td>Tuesday</td>\n",
       "      <td>11</td>\n",
       "      <td>1</td>\n",
       "      <td>3</td>\n",
       "      <td>19</td>\n",
       "      <td>1</td>\n",
       "    </tr>\n",
       "    <tr>\n",
       "      <th>3</th>\n",
       "      <td>id3504673</td>\n",
       "      <td>2</td>\n",
       "      <td>2016-04-06 19:32:31</td>\n",
       "      <td>2016-04-06 19:39:40</td>\n",
       "      <td>1</td>\n",
       "      <td>-74.010040</td>\n",
       "      <td>40.719971</td>\n",
       "      <td>-74.012268</td>\n",
       "      <td>40.706718</td>\n",
       "      <td>N</td>\n",
       "      <td>429</td>\n",
       "      <td>0.923046</td>\n",
       "      <td>Wednesday</td>\n",
       "      <td>19</td>\n",
       "      <td>4</td>\n",
       "      <td>14</td>\n",
       "      <td>97</td>\n",
       "      <td>2</td>\n",
       "    </tr>\n",
       "    <tr>\n",
       "      <th>4</th>\n",
       "      <td>id2181028</td>\n",
       "      <td>2</td>\n",
       "      <td>2016-03-26 13:30:55</td>\n",
       "      <td>2016-03-26 13:38:10</td>\n",
       "      <td>1</td>\n",
       "      <td>-73.973053</td>\n",
       "      <td>40.793209</td>\n",
       "      <td>-73.972923</td>\n",
       "      <td>40.782520</td>\n",
       "      <td>N</td>\n",
       "      <td>435</td>\n",
       "      <td>0.738554</td>\n",
       "      <td>Saturday</td>\n",
       "      <td>13</td>\n",
       "      <td>3</td>\n",
       "      <td>12</td>\n",
       "      <td>86</td>\n",
       "      <td>5</td>\n",
       "    </tr>\n",
       "  </tbody>\n",
       "</table>\n",
       "</div>"
      ],
      "text/plain": [
       "          id  vendor_id     pickup_datetime    dropoff_datetime  \\\n",
       "0  id2875421          2 2016-03-14 17:24:55 2016-03-14 17:32:30   \n",
       "1  id2377394          1 2016-06-12 00:43:35 2016-06-12 00:54:38   \n",
       "2  id3858529          2 2016-01-19 11:35:24 2016-01-19 12:10:48   \n",
       "3  id3504673          2 2016-04-06 19:32:31 2016-04-06 19:39:40   \n",
       "4  id2181028          2 2016-03-26 13:30:55 2016-03-26 13:38:10   \n",
       "\n",
       "   passenger_count  pickup_longitude  pickup_latitude  dropoff_longitude  \\\n",
       "0                1        -73.982155        40.767937         -73.964630   \n",
       "1                1        -73.980415        40.738564         -73.999481   \n",
       "2                1        -73.979027        40.763939         -74.005333   \n",
       "3                1        -74.010040        40.719971         -74.012268   \n",
       "4                1        -73.973053        40.793209         -73.972923   \n",
       "\n",
       "   dropoff_latitude store_and_fwd_flag  trip_duration  haversine_distance  \\\n",
       "0         40.765602                  N            455            0.931137   \n",
       "1         40.731152                  N            663            1.121890   \n",
       "2         40.710087                  N           2124            3.967515   \n",
       "3         40.706718                  N            429            0.923046   \n",
       "4         40.782520                  N            435            0.738554   \n",
       "\n",
       "  pickup_weekdayname  pickup_hour  pickup_month  week_of_year  day_of_year  \\\n",
       "0             Monday           17             3            11           74   \n",
       "1             Sunday            0             6            23          164   \n",
       "2            Tuesday           11             1             3           19   \n",
       "3          Wednesday           19             4            14           97   \n",
       "4           Saturday           13             3            12           86   \n",
       "\n",
       "   pickup_dayofweek  \n",
       "0                 0  \n",
       "1                 6  \n",
       "2                 1  \n",
       "3                 2  \n",
       "4                 5  "
      ]
     },
     "execution_count": 37,
     "metadata": {},
     "output_type": "execute_result"
    }
   ],
   "source": [
    "NYC_train.head()"
   ]
  },
  {
   "cell_type": "code",
   "execution_count": 38,
   "metadata": {
    "collapsed": false
   },
   "outputs": [
    {
     "data": {
      "image/png": "[encoded data removed]",
      "text/plain": [
       "<matplotlib.figure.Figure at 0x127d5898>"
      ]
     },
     "metadata": {},
     "output_type": "display_data"
    }
   ],
   "source": [
    "#Lets plot trips in a week.\n",
    "plt.figure(figsize=(10,6))\n",
    "sns.countplot(x='pickup_weekdayname', data=NYC_train)\n",
    "plt.show()"
   ]
  },
  {
   "cell_type": "markdown",
   "metadata": {},
   "source": [
    "Clearly Friday and Saturday have maximum trips."
   ]
  },
  {
   "cell_type": "code",
   "execution_count": 39,
   "metadata": {
    "collapsed": false
   },
   "outputs": [
    {
     "data": {
      "image/png": "[encoded data removed]",
      "text/plain": [
       "<matplotlib.figure.Figure at 0x358dfb38>"
      ]
     },
     "metadata": {},
     "output_type": "display_data"
    }
   ],
   "source": [
    "# Lets see when people are using taxis during which hours.\n",
    "plt.figure(figsize=(10,6))\n",
    "sns.countplot(x='pickup_hour', data=NYC_train)\n",
    "plt.show()"
   ]
  },
  {
   "cell_type": "markdown",
   "metadata": {},
   "source": [
    "Taxis are being utilized more between 6pm to 10pm. "
   ]
  },
  {
   "cell_type": "code",
   "execution_count": 40,
   "metadata": {
    "collapsed": false
   },
   "outputs": [
    {
     "data": {
      "image/png": "[encoded data removed]",
      "text/plain": [
       "<matplotlib.figure.Figure at 0x1287c080>"
      ]
     },
     "metadata": {},
     "output_type": "display_data"
    }
   ],
   "source": [
    "plt.figure(figsize=(10,6))\n",
    "sns.countplot(x='pickup_month', data=NYC_train)\n",
    "plt.show()"
   ]
  },
  {
   "cell_type": "code",
   "execution_count": 41,
   "metadata": {
    "collapsed": false
   },
   "outputs": [
    {
     "data": {
      "text/plain": [
       "count    1.458640e+06\n",
       "mean     9.528153e+02\n",
       "std      3.171322e+03\n",
       "min      1.000000e+00\n",
       "25%      3.970000e+02\n",
       "50%      6.620000e+02\n",
       "75%      1.075000e+03\n",
       "max      8.639200e+04\n",
       "Name: trip_duration, dtype: float64"
      ]
     },
     "execution_count": 41,
     "metadata": {},
     "output_type": "execute_result"
    }
   ],
   "source": [
    "NYC_train.trip_duration.describe()"
   ]
  },
  {
   "cell_type": "markdown",
   "metadata": {},
   "source": [
    "## Exploring the behaviour of trip_duration based on the number of trips for each timestamp"
   ]
  },
  {
   "cell_type": "code",
   "execution_count": 42,
   "metadata": {
    "collapsed": false
   },
   "outputs": [
    {
     "data": {
      "image/png": "[encoded data removed]",
      "text/plain": [
       "<matplotlib.figure.Figure at 0x2ee20240>"
      ]
     },
     "metadata": {},
     "output_type": "display_data"
    }
   ],
   "source": [
    "NYC_train_agg = NYC_train.groupby('pickup_weekdayname')['trip_duration'].aggregate(np.median).reset_index()\n",
    "\n",
    "plt.figure(figsize=(10,10))\n",
    "sns.pointplot(NYC_train_agg.pickup_weekdayname.values, NYC_train_agg.trip_duration.values)\n",
    "plt.show()"
   ]
  },
  {
   "cell_type": "code",
   "execution_count": 43,
   "metadata": {
    "collapsed": false
   },
   "outputs": [
    {
     "data": {
      "text/plain": [
       "pickup_weekdayname       \n",
       "Friday              count    223533.000000\n",
       "                    mean        990.224200\n",
       "                    std        3274.974477\n",
       "                    min           1.000000\n",
       "                    25%         410.000000\n",
       "                    50%         686.000000\n",
       "                    75%        1112.000000\n",
       "                    max       86390.000000\n",
       "Monday              count    187418.000000\n",
       "                    mean        897.947839\n",
       "                    std        2769.429213\n",
       "                    min           1.000000\n",
       "                    25%         380.000000\n",
       "                    50%         630.000000\n",
       "                    75%        1027.000000\n",
       "                    max       86392.000000\n",
       "Saturday            count    220866.000000\n",
       "                    mean        922.814317\n",
       "                    std        3515.782988\n",
       "                    min           1.000000\n",
       "                    25%         385.000000\n",
       "                    50%         637.000000\n",
       "                    75%        1012.000000\n",
       "                    max       86377.000000\n",
       "Sunday              count    195366.000000\n",
       "                    mean        901.639395\n",
       "                    std        3456.093920\n",
       "                    min           1.000000\n",
       "                    25%         364.000000\n",
       "                    50%         602.000000\n",
       "                    75%         978.000000\n",
       "                    max       86369.000000\n",
       "Thursday            count    218574.000000\n",
       "                    mean       1006.528654\n",
       "                    std        3100.383654\n",
       "                    min           1.000000\n",
       "                    25%         420.000000\n",
       "                    50%         709.000000\n",
       "                    75%        1155.000000\n",
       "                    max       86387.000000\n",
       "Tuesday             count    202747.000000\n",
       "                    mean        962.918401\n",
       "                    std        3058.192485\n",
       "                    min           1.000000\n",
       "                    25%         407.000000\n",
       "                    50%         679.000000\n",
       "                    75%        1102.000000\n",
       "                    max       86391.000000\n",
       "Wednesday           count    210136.000000\n",
       "                    mean        975.450494\n",
       "                    std        2903.805145\n",
       "                    min           1.000000\n",
       "                    25%         416.000000\n",
       "                    50%         694.000000\n",
       "                    75%        1133.000000\n",
       "                    max       86366.000000\n",
       "Name: trip_duration, dtype: float64"
      ]
     },
     "execution_count": 43,
     "metadata": {},
     "output_type": "execute_result"
    }
   ],
   "source": [
    "NYC_train.groupby('pickup_weekdayname')['trip_duration'].describe()"
   ]
  },
  {
   "cell_type": "code",
   "execution_count": 44,
   "metadata": {
    "collapsed": false
   },
   "outputs": [
    {
     "data": {
      "image/png": "[encoded data removed]",
      "text/plain": [
       "<matplotlib.figure.Figure at 0x1284d860>"
      ]
     },
     "metadata": {},
     "output_type": "display_data"
    }
   ],
   "source": [
    "NYC_train_agg = NYC_train.groupby('pickup_hour')['trip_duration'].aggregate(np.median).reset_index()\n",
    "\n",
    "plt.figure(figsize=(12,6))\n",
    "sns.pointplot(NYC_train_agg.pickup_hour.values, NYC_train_agg.trip_duration.values)\n",
    "plt.show()"
   ]
  },
  {
   "cell_type": "code",
   "execution_count": 45,
   "metadata": {
    "collapsed": false
   },
   "outputs": [
    {
     "data": {
      "text/plain": [
       "pickup_hour       \n",
       "0            count    53247.000000\n",
       "             mean       900.245873\n",
       "             std       3223.040076\n",
       "             min          1.000000\n",
       "             25%        389.000000\n",
       "             50%        646.000000\n",
       "             75%       1039.000000\n",
       "             max      86390.000000\n",
       "1            count    38571.000000\n",
       "             mean       903.087112\n",
       "             std       3733.570656\n",
       "             min          2.000000\n",
       "             25%        371.000000\n",
       "             50%        613.000000\n",
       "             75%        977.000000\n",
       "             max      86355.000000\n",
       "2            count    27972.000000\n",
       "             mean       890.076934\n",
       "             std       4003.839902\n",
       "             min          1.000000\n",
       "             25%        354.000000\n",
       "             50%        591.000000\n",
       "             75%        942.000000\n",
       "             max      86369.000000\n",
       "3            count    20895.000000\n",
       "             mean       890.070878\n",
       "             std       3961.003485\n",
       "             min          2.000000\n",
       "             25%        350.000000\n",
       "             50%        592.000000\n",
       "                          ...     \n",
       "20           std       3091.329173\n",
       "             min          1.000000\n",
       "             25%        391.000000\n",
       "             50%        634.000000\n",
       "             75%        995.000000\n",
       "             max      86369.000000\n",
       "21           count    84185.000000\n",
       "             mean       890.521221\n",
       "             std       3143.474757\n",
       "             min          2.000000\n",
       "             25%        398.000000\n",
       "             50%        642.000000\n",
       "             75%       1013.000000\n",
       "             max      86362.000000\n",
       "22           count    80490.000000\n",
       "             mean       954.207405\n",
       "             std       3596.109146\n",
       "             min          1.000000\n",
       "             25%        409.000000\n",
       "             50%        668.000000\n",
       "             75%       1057.000000\n",
       "             max      86379.000000\n",
       "23           count    69785.000000\n",
       "             mean       925.091409\n",
       "             std       3137.764143\n",
       "             min          1.000000\n",
       "             25%        406.000000\n",
       "             50%        670.000000\n",
       "             75%       1082.000000\n",
       "             max      86392.000000\n",
       "Name: trip_duration, dtype: float64"
      ]
     },
     "execution_count": 45,
     "metadata": {},
     "output_type": "execute_result"
    }
   ],
   "source": [
    "NYC_train.groupby('pickup_hour')['trip_duration'].describe()"
   ]
  },
  {
   "cell_type": "code",
   "execution_count": 46,
   "metadata": {
    "collapsed": false
   },
   "outputs": [
    {
     "data": {
      "image/png": "[encoded data removed]",
      "text/plain": [
       "<matplotlib.figure.Figure at 0x12aaeef0>"
      ]
     },
     "metadata": {},
     "output_type": "display_data"
    }
   ],
   "source": [
    "NYC_train_agg = NYC_train.groupby('pickup_month')['trip_duration'].aggregate(np.median).reset_index()\n",
    "\n",
    "plt.figure(figsize=(10,10))\n",
    "sns.pointplot(NYC_train_agg.pickup_month.values, NYC_train_agg.trip_duration.values)\n",
    "plt.show()"
   ]
  },
  {
   "cell_type": "code",
   "execution_count": 47,
   "metadata": {
    "collapsed": false
   },
   "outputs": [
    {
     "data": {
      "text/plain": [
       "pickup_month       \n",
       "1             count    229705.000000\n",
       "              mean        904.239176\n",
       "              std        3123.083824\n",
       "              min           1.000000\n",
       "              25%         383.000000\n",
       "              50%         630.000000\n",
       "              75%        1013.000000\n",
       "              max       86369.000000\n",
       "2             count    238298.000000\n",
       "              mean        897.439496\n",
       "              std        3057.137598\n",
       "              min           1.000000\n",
       "              25%         384.000000\n",
       "              50%         635.000000\n",
       "              75%        1022.000000\n",
       "              max       86392.000000\n",
       "3             count    256189.000000\n",
       "              mean        937.365363\n",
       "              std        3213.214383\n",
       "              min           1.000000\n",
       "              25%         393.000000\n",
       "              50%         653.000000\n",
       "              75%        1052.000000\n",
       "              max       86366.000000\n",
       "4             count    251645.000000\n",
       "              mean        962.891462\n",
       "              std        3158.773635\n",
       "              min           1.000000\n",
       "              25%         403.000000\n",
       "              50%         675.000000\n",
       "              75%        1097.000000\n",
       "              max       86364.000000\n",
       "5             count    248487.000000\n",
       "              mean        999.450555\n",
       "              std        3186.775737\n",
       "              min           1.000000\n",
       "              25%         408.000000\n",
       "              50%         689.000000\n",
       "              75%        1133.000000\n",
       "              max       86391.000000\n",
       "6             count    234316.000000\n",
       "              mean       1013.367226\n",
       "              std        3279.534457\n",
       "              min           1.000000\n",
       "              25%         414.000000\n",
       "              50%         695.000000\n",
       "              75%        1141.000000\n",
       "              max       86387.000000\n",
       "Name: trip_duration, dtype: float64"
      ]
     },
     "execution_count": 47,
     "metadata": {},
     "output_type": "execute_result"
    }
   ],
   "source": [
    "NYC_train.groupby('pickup_month')['trip_duration'].describe()"
   ]
  },
  {
   "cell_type": "markdown",
   "metadata": {},
   "source": [
    "Observation at a week-level:<br>\n",
    "Trip durations are the most on Thursday's, Wednesday's and Friday's & the least on Sunday's.<br>\n",
    "<br>\n",
    "Observation at an hour-level:<br>\n",
    "Trip durations are the most between 11:00 hrs and 16:00 hrs & the least between 04:00 hrs and 07:00 hrs.<br>\n",
    "\n",
    "Observation at a month-level:<br>\n",
    "There seems to be a linear increase in the median trip duration from the month of January to the month of June, although the increase is fairly minimal.<br>"
   ]
  },
  {
   "cell_type": "markdown",
   "metadata": {},
   "source": [
    "## Feature Selection"
   ]
  },
  {
   "cell_type": "code",
   "execution_count": null,
   "metadata": {
    "collapsed": true
   },
   "outputs": [],
   "source": [
    "feature_names = list(NYC_train.columns)\n",
    "print(\"Difference of features in train and test are {}\".format(np.setdiff1d(NYC_train.columns, NYC_test.columns)))\n",
    "print(\"\")\n",
    "do_not_use_for_training = ['pick_date','id', 'pickup_datetime', 'dropoff_datetime','trip_duration' ,'store_and_fwd_flag', 'pickup_weekdayname']"
   ]
  },
  {
   "cell_type": "code",
   "execution_count": 49,
   "metadata": {
    "collapsed": false
   },
   "outputs": [
    {
     "name": "stdout",
     "output_type": "stream",
     "text": [
      "We will be using following features for training ['vendor_id', 'passenger_count', 'pickup_longitude', 'pickup_latitude', 'dropoff_longitude', 'dropoff_latitude', 'haversine_distance', 'pickup_hour', 'pickup_month', 'week_of_year', 'day_of_year', 'pickup_dayofweek'].\n",
      "\n",
      "Total number of features are 12.\n"
     ]
    }
   ],
   "source": [
    "feature_names_new = [f for f in NYC_train.columns if f not in do_not_use_for_training]\n",
    "print(\"We will be using following features for training {}.\".format(feature_names_new))\n",
    "print(\"\")\n",
    "print(\"Total number of features are {}.\".format(len(feature_names_new)))"
   ]
  },
  {
   "cell_type": "code",
   "execution_count": 50,
   "metadata": {
    "collapsed": true
   },
   "outputs": [],
   "source": [
    "y = np.log(NYC_train['trip_duration'].values + 1)"
   ]
  },
  {
   "cell_type": "code",
   "execution_count": 51,
   "metadata": {
    "collapsed": false
   },
   "outputs": [
    {
     "data": {
      "text/plain": [
       "array([6.12249281, 6.49828215, 7.66152708, ..., 6.63987583, 5.9242558 ,\n",
       "       5.29330482])"
      ]
     },
     "execution_count": 51,
     "metadata": {},
     "output_type": "execute_result"
    }
   ],
   "source": [
    "y"
   ]
  },
  {
   "cell_type": "code",
   "execution_count": 52,
   "metadata": {
    "collapsed": false
   },
   "outputs": [
    {
     "data": {
      "text/plain": [
       "['vendor_id',\n",
       " 'passenger_count',\n",
       " 'pickup_longitude',\n",
       " 'pickup_latitude',\n",
       " 'dropoff_longitude',\n",
       " 'dropoff_latitude',\n",
       " 'haversine_distance',\n",
       " 'pickup_hour',\n",
       " 'pickup_month',\n",
       " 'week_of_year',\n",
       " 'day_of_year',\n",
       " 'pickup_dayofweek']"
      ]
     },
     "execution_count": 52,
     "metadata": {},
     "output_type": "execute_result"
    }
   ],
   "source": [
    "feature_names_new"
   ]
  },
  {
   "cell_type": "markdown",
   "metadata": {},
   "source": [
    "## Perform the train test split 80-20"
   ]
  },
  {
   "cell_type": "code",
   "execution_count": 53,
   "metadata": {
    "collapsed": true
   },
   "outputs": [],
   "source": [
    "Xtrain, Xtest , ytrain, ytest = train_test_split(NYC_train[feature_names_new].values , y, test_size = 0.2, random_state=123)"
   ]
  },
  {
   "cell_type": "code",
   "execution_count": 54,
   "metadata": {
    "collapsed": false
   },
   "outputs": [
    {
     "data": {
      "text/plain": [
       "array([  1.        ,   1.        , -73.99131012,  40.74981308,\n",
       "       -73.97957611,  40.74367523,   0.74639992,  14.        ,\n",
       "         6.        ,  24.        , 171.        ,   6.        ])"
      ]
     },
     "execution_count": 54,
     "metadata": {},
     "output_type": "execute_result"
    }
   ],
   "source": [
    "Xtrain[0]"
   ]
  },
  {
   "cell_type": "markdown",
   "metadata": {},
   "source": [
    "## Standardize input feature values\n",
    "Values have huge range. We need to standardize input feature values."
   ]
  },
  {
   "cell_type": "code",
   "execution_count": 55,
   "metadata": {
    "collapsed": true
   },
   "outputs": [],
   "source": [
    "from sklearn.preprocessing import StandardScaler\n",
    "scaler=StandardScaler()\n",
    "X_std = scaler.fit_transform(Xtrain)\n",
    "X_std_tst=scaler.fit_transform(Xtest)"
   ]
  },
  {
   "cell_type": "code",
   "execution_count": 56,
   "metadata": {
    "collapsed": false
   },
   "outputs": [
    {
     "data": {
      "text/plain": [
       "array([[-1.07279022, -0.50578232, -0.28497726, ...,  1.18528676,\n",
       "         1.53494548,  1.50955349],\n",
       "       [ 0.93214869, -0.50578232,  0.40761359, ..., -0.44834381,\n",
       "        -0.40395922,  0.48576861],\n",
       "       [ 0.93214869,  1.01715242, -0.0069663 , ...,  0.48515937,\n",
       "         0.60427122, -1.56180117],\n",
       "       ...,\n",
       "       [-1.07279022, -0.50578232, -0.10869249, ..., -0.56503171,\n",
       "        -0.5590716 , -0.02612384],\n",
       "       [ 0.93214869,  0.25568505, -0.23807357, ..., -0.21496802,\n",
       "        -0.09373447,  1.50955349],\n",
       "       [ 0.93214869, -0.50578232, -0.40851062, ..., -0.79840751,\n",
       "        -0.79174016,  0.99766105]])"
      ]
     },
     "execution_count": 56,
     "metadata": {},
     "output_type": "execute_result"
    }
   ],
   "source": [
    "X_std"
   ]
  },
  {
   "cell_type": "markdown",
   "metadata": {},
   "source": [
    "## Build Model using Random Forest regressor"
   ]
  },
  {
   "cell_type": "code",
   "execution_count": 57,
   "metadata": {
    "collapsed": false
   },
   "outputs": [
    {
     "name": "stdout",
     "output_type": "stream",
     "text": [
      "Time Taken by above cell is 0.31281113624572754.\n"
     ]
    }
   ],
   "source": [
    "start = time.time()\n",
    "\n",
    "# Import the model we are using\n",
    "from sklearn.ensemble import RandomForestRegressor\n",
    "from sklearn.model_selection import cross_val_score\n",
    "# Instantiate model with 10 decision trees\n",
    "rf = RandomForestRegressor(n_estimators=10, min_samples_split=4, n_jobs=-1, random_state=42)\n",
    "\n",
    "end = time.time()\n",
    "print(\"Time Taken by above cell is {}.\".format(end - start))"
   ]
  },
  {
   "cell_type": "code",
   "execution_count": 58,
   "metadata": {
    "collapsed": false
   },
   "outputs": [
    {
     "name": "stdout",
     "output_type": "stream",
     "text": [
      "Time Taken by above cell is 64.13223528862.\n"
     ]
    }
   ],
   "source": [
    "start = time.time()\n",
    "# Train the model on training data\n",
    "rf.fit(X_std, ytrain)\n",
    "end = time.time()\n",
    "print(\"Time Taken by above cell is {}.\".format(end - start))"
   ]
  },
  {
   "cell_type": "code",
   "execution_count": 59,
   "metadata": {
    "collapsed": false
   },
   "outputs": [
    {
     "name": "stdout",
     "output_type": "stream",
     "text": [
      "Cross validation Score [0.72665918 0.71945976 0.71223221 0.7199288  0.71647461]\n",
      "Time Taken by above cell is 291.6538071632385.\n"
     ]
    }
   ],
   "source": [
    "start = time.time()\n",
    "print('Cross validation Score', cross_val_score(rf, X_std, ytrain, cv=5))\n",
    "end = time.time()\n",
    "print(\"Time Taken by above cell is {}.\".format(end - start))"
   ]
  },
  {
   "cell_type": "code",
   "execution_count": 60,
   "metadata": {
    "collapsed": false
   },
   "outputs": [
    {
     "name": "stdout",
     "output_type": "stream",
     "text": [
      "Cross validation Score [0.7254281  0.72758982 0.71995449 0.71838063 0.71623097 0.71314553\n",
      " 0.7246894  0.71939342 0.71026511 0.72467951]\n",
      "Time Taken by above cell is 709.3581795692444.\n"
     ]
    }
   ],
   "source": [
    "start = time.time()\n",
    "print('Cross validation Score', cross_val_score(rf, X_std, ytrain, cv=10))\n",
    "end = time.time()\n",
    "print(\"Time Taken by above cell is {}.\".format(end - start))"
   ]
  },
  {
   "cell_type": "code",
   "execution_count": 61,
   "metadata": {
    "collapsed": false
   },
   "outputs": [
    {
     "name": "stdout",
     "output_type": "stream",
     "text": [
      "[0.00908678 0.00802114 0.05148418 0.04546611 0.05251774 0.06460395\n",
      " 0.65198186 0.05572716 0.00308385 0.01079378 0.02313217 0.02410129]\n",
      "Time Taken by above cell is 0.13760685920715332.\n"
     ]
    }
   ],
   "source": [
    "start = time.time()\n",
    "print(rf.feature_importances_)\n",
    "end = time.time()\n",
    "print(\"Time Taken by above cell is {}.\".format(end - start))"
   ]
  },
  {
   "cell_type": "markdown",
   "metadata": {},
   "source": [
    "# Parameter Tuning"
   ]
  },
  {
   "cell_type": "code",
   "execution_count": 62,
   "metadata": {
    "collapsed": false
   },
   "outputs": [
    {
     "name": "stdout",
     "output_type": "stream",
     "text": [
      "Time Taken by above cell is 0.1466073989868164.\n"
     ]
    }
   ],
   "source": [
    "# Instantiate model with 1000 decision trees\n",
    "rf1 = RandomForestRegressor(n_estimators=100, min_samples_split=4, n_jobs=-1, random_state=42)\n",
    "\n",
    "end = time.time()\n",
    "print(\"Time Taken by above cell is {}.\".format(end - start))"
   ]
  },
  {
   "cell_type": "code",
   "execution_count": 63,
   "metadata": {
    "collapsed": false
   },
   "outputs": [
    {
     "name": "stdout",
     "output_type": "stream",
     "text": [
      "Time Taken by above cell is 881.6719496250153.\n"
     ]
    }
   ],
   "source": [
    "start = time.time()\n",
    "# Train the model on training data\n",
    "rf1.fit(X_std, ytrain)\n",
    "end = time.time()\n",
    "print(\"Time Taken by above cell is {}.\".format(end - start))"
   ]
  },
  {
   "cell_type": "code",
   "execution_count": 64,
   "metadata": {
    "collapsed": false
   },
   "outputs": [
    {
     "name": "stdout",
     "output_type": "stream",
     "text": [
      "Cross validation Score [0.75044038 0.74377056 0.73700789 0.7431197  0.74040213]\n",
      "Time Taken by above cell is 3410.66016292572.\n"
     ]
    }
   ],
   "source": [
    "start = time.time()\n",
    "print('Cross validation Score', cross_val_score(rf1, X_std, ytrain, cv=5))\n",
    "end = time.time()\n",
    "print(\"Time Taken by above cell is {}.\".format(end - start))"
   ]
  },
  {
   "cell_type": "code",
   "execution_count": 65,
   "metadata": {
    "collapsed": false
   },
   "outputs": [
    {
     "name": "stdout",
     "output_type": "stream",
     "text": [
      "Cross validation Score [0.75072517 0.75201802 0.74531546 0.74331659 0.73919851 0.73852035\n",
      " 0.74814017 0.7420779  0.73504596 0.74874626]\n",
      "Time Taken by above cell is 7639.546013593674.\n"
     ]
    }
   ],
   "source": [
    "start = time.time()\n",
    "print('Cross validation Score', cross_val_score(rf1, X_std, ytrain, cv=10))\n",
    "end = time.time()\n",
    "print(\"Time Taken by above cell is {}.\".format(end - start))"
   ]
  },
  {
   "cell_type": "markdown",
   "metadata": {},
   "source": [
    "# Prediction"
   ]
  },
  {
   "cell_type": "code",
   "execution_count": 70,
   "metadata": {
    "collapsed": false
   },
   "outputs": [
    {
     "name": "stdout",
     "output_type": "stream",
     "text": [
      "Mean Absolute Error: 0.29 degrees.\n",
      "Root Mean square Error: 0.4400177123343649\n",
      "Time Taken by above cell is 6.710615158081055.\n"
     ]
    }
   ],
   "source": [
    "start = time.time()\n",
    "\n",
    "# Use the forest's predict method on the test data\n",
    "predictions = rf1.predict(X_std_tst)\n",
    "# Calculate the absolute errors\n",
    "errors = abs(predictions - ytest)\n",
    "rmse = np.sqrt(metrics.mean_squared_error(ytest,predictions))\n",
    "# Print out the mean absolute error (mae)\n",
    "print('Mean Absolute Error:', round(np.mean(errors), 2), 'degrees.')\n",
    "print('Root Mean square Error:', rmse)\n",
    "\n",
    "end = time.time()\n",
    "print(\"Time Taken by above cell is {}.\".format(end - start))"
   ]
  },
  {
   "cell_type": "code",
   "execution_count": 71,
   "metadata": {
    "collapsed": false
   },
   "outputs": [
    {
     "data": {
      "text/plain": [
       "array([7.87792778, 6.62606736, 6.22545522, ..., 6.07737907, 6.58391596,\n",
       "       7.15720593])"
      ]
     },
     "execution_count": 71,
     "metadata": {},
     "output_type": "execute_result"
    }
   ],
   "source": [
    "predictions"
   ]
  },
  {
   "cell_type": "code",
   "execution_count": 72,
   "metadata": {
    "collapsed": true
   },
   "outputs": [],
   "source": [
    "Output=pd.DataFrame(NYC_test.id)\n",
    "Output['TripDuration']=pd.DataFrame(predictions)"
   ]
  },
  {
   "cell_type": "code",
   "execution_count": 73,
   "metadata": {
    "collapsed": false
   },
   "outputs": [
    {
     "data": {
      "text/html": [
       "<div>\n",
       "<table border=\"1\" class=\"dataframe\">\n",
       "  <thead>\n",
       "    <tr style=\"text-align: right;\">\n",
       "      <th></th>\n",
       "      <th>id</th>\n",
       "      <th>TripDuration</th>\n",
       "    </tr>\n",
       "  </thead>\n",
       "  <tbody>\n",
       "    <tr>\n",
       "      <th>0</th>\n",
       "      <td>id3004672</td>\n",
       "      <td>7.877928</td>\n",
       "    </tr>\n",
       "    <tr>\n",
       "      <th>1</th>\n",
       "      <td>id3505355</td>\n",
       "      <td>6.626067</td>\n",
       "    </tr>\n",
       "    <tr>\n",
       "      <th>2</th>\n",
       "      <td>id1217141</td>\n",
       "      <td>6.225455</td>\n",
       "    </tr>\n",
       "    <tr>\n",
       "      <th>3</th>\n",
       "      <td>id2150126</td>\n",
       "      <td>5.646383</td>\n",
       "    </tr>\n",
       "    <tr>\n",
       "      <th>4</th>\n",
       "      <td>id1598245</td>\n",
       "      <td>4.930549</td>\n",
       "    </tr>\n",
       "  </tbody>\n",
       "</table>\n",
       "</div>"
      ],
      "text/plain": [
       "          id  TripDuration\n",
       "0  id3004672      7.877928\n",
       "1  id3505355      6.626067\n",
       "2  id1217141      6.225455\n",
       "3  id2150126      5.646383\n",
       "4  id1598245      4.930549"
      ]
     },
     "execution_count": 73,
     "metadata": {},
     "output_type": "execute_result"
    }
   ],
   "source": [
    "Output.head()"
   ]
  },
  {
   "cell_type": "code",
   "execution_count": 74,
   "metadata": {
    "collapsed": true
   },
   "outputs": [],
   "source": [
    "Output.to_csv('Output.csv', index=False)"
   ]
  }
 ],
 "metadata": {
  "kernelspec": {
   "display_name": "Python 3",
   "language": "python",
   "name": "python3"
  },
  "language_info": {
   "codemirror_mode": {
    "name": "ipython",
    "version": 3
   },
   "file_extension": ".py",
   "mimetype": "text/x-python",
   "name": "python",
   "nbconvert_exporter": "python",
   "pygments_lexer": "ipython3",
   "version": "3.6.0"
  }
 },
 "nbformat": 4,
 "nbformat_minor": 2
}
